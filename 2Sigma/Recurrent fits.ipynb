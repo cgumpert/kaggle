{
 "cells": [
  {
   "cell_type": "code",
   "execution_count": 1,
   "metadata": {
    "collapsed": false
   },
   "outputs": [],
   "source": [
    "import numpy as np\n",
    "import pandas as pd\n",
    "import matplotlib.pyplot as plt\n",
    "import logging\n",
    "logging.basicConfig(format='%(asctime)s %(levelname)-10s %(message)s',\n",
    "                    datefmt='%H:%M:%S',\n",
    "                    level=logging.DEBUG)\n",
    "%matplotlib inline"
   ]
  },
  {
   "cell_type": "code",
   "execution_count": 2,
   "metadata": {
    "collapsed": false
   },
   "outputs": [],
   "source": [
    "with pd.HDFStore('train.h5') as train:\n",
    "    df = train.get('train')"
   ]
  },
  {
   "cell_type": "code",
   "execution_count": 7,
   "metadata": {
    "collapsed": true
   },
   "outputs": [],
   "source": [
    "from sklearn.linear_model import LinearRegression, RANSACRegressor\n",
    "from sklearn.metrics import r2_score\n",
    "\n",
    "def recurrent_linear_fit(df,col,quantile=0.99,min_train_fraction=0.9):\n",
    "    logging.info(\"recurrent linear fit to '%s'\",col)\n",
    "    X = df.loc[:,[col]]\n",
    "    train_index = X.dropna().index\n",
    "    X = df.loc[train_index,[col]]\n",
    "    y = df.y[train_index]\n",
    "    internal_model = LinearRegression(fit_intercept=True,copy_X=False)\n",
    "    ransac = RANSACRegressor(internal_model)\n",
    "    ransac.fit(X,y)\n",
    "    score = r2_score(y,ransac.predict(X))\n",
    "    logging.debug(\"RANSAC: iterations = %d, inlier fraction = %.2f%%\",ransac.n_trials_,np.sum(ransac.inlier_mask_)*100./len(X))\n",
    "    logging.debug(\"col = %s: score = %.7f\",col,score)\n",
    "        \n",
    "    return ransac.estimator_,score"
   ]
  },
  {
   "cell_type": "code",
   "execution_count": 11,
   "metadata": {
    "collapsed": false
   },
   "outputs": [
    {
     "name": "stderr",
     "output_type": "stream",
     "text": [
      "14:02:06 INFO       performing recurrent linear fit to 108 columns\n",
      "14:02:06 INFO       recurrent linear fit to 'derived_0'\n",
      "14:02:06 DEBUG      RANSAC: iterations = 18, inlier fraction = 48.47%\n",
      "14:02:06 DEBUG      col = derived_0: score = -1107.2126534\n"
     ]
    }
   ],
   "source": [
    "cols2fit = df.drop(['id','timestamp','y'],axis=1).columns\n",
    "logging.info(\"performing recurrent linear fit to %d columns\",len(cols2fit))\n",
    "models = {}\n",
    "for c in cols2fit[:1]:\n",
    "    m,s = recurrent_linear_fit(df,c)\n",
    "    models[c] = {'model': m, 'score': s}"
   ]
  },
  {
   "cell_type": "code",
   "execution_count": 10,
   "metadata": {
    "collapsed": false
   },
   "outputs": [
    {
     "data": {
      "text/plain": [
       "(array([ 0.,  0.,  0.,  0.,  0.,  0.,  0.,  0.,  0.,  0.,  0.,  0.,  0.,\n",
       "         0.,  0.,  0.,  0.,  0.,  0.,  0.,  0.,  0.,  0.,  0.,  0.,  1.,\n",
       "         0.,  0.,  0.,  0.,  0.,  0.,  0.,  0.,  0.,  0.,  0.,  0.,  0.,\n",
       "         0.,  0.,  0.,  0.,  0.,  0.,  0.,  0.,  0.,  0.,  0.]),\n",
       " array([-2.6079523, -2.5879523, -2.5679523, -2.5479523, -2.5279523,\n",
       "        -2.5079523, -2.4879523, -2.4679523, -2.4479523, -2.4279523,\n",
       "        -2.4079523, -2.3879523, -2.3679523, -2.3479523, -2.3279523,\n",
       "        -2.3079523, -2.2879523, -2.2679523, -2.2479523, -2.2279523,\n",
       "        -2.2079523, -2.1879523, -2.1679523, -2.1479523, -2.1279523,\n",
       "        -2.1079523, -2.0879523, -2.0679523, -2.0479523, -2.0279523,\n",
       "        -2.0079523, -1.9879523, -1.9679523, -1.9479523, -1.9279523,\n",
       "        -1.9079523, -1.8879523, -1.8679523, -1.8479523, -1.8279523,\n",
       "        -1.8079523, -1.7879523, -1.7679523, -1.7479523, -1.7279523,\n",
       "        -1.7079523, -1.6879523, -1.6679523, -1.6479523, -1.6279523,\n",
       "        -1.6079523]),\n",
       " <a list of 50 Patch objects>)"
      ]
     },
     "execution_count": 10,
     "metadata": {},
     "output_type": "execute_result"
    },
    {
     "data": {
      "image/png": "[encoded data removed]",
      "text/plain": [
       "<matplotlib.figure.Figure at 0x7f274b2c06d8>"
      ]
     },
     "metadata": {},
     "output_type": "display_data"
    }
   ],
   "source": [
    "scores = sorted([a['score'] for a in models.values()])\n",
    "plt.hist(scores,bins=50)"
   ]
  },
  {
   "cell_type": "code",
   "execution_count": 30,
   "metadata": {
    "collapsed": false
   },
   "outputs": [
    {
     "name": "stdout",
     "output_type": "stream",
     "text": [
      "[ -5.75147033e-08]\n",
      "2.12881293131e-05\n",
      "-8.99974454426\n",
      "[  2.12881293e-05]\n"
     ]
    }
   ],
   "source": [
    "m = models['derived_0']['model']\n",
    "print(m.coef_)\n",
    "print(m.intercept_)\n",
    "print(m.score([[0],[0]],[2,1]))\n",
    "print(m.predict([[0]]))"
   ]
  },
  {
   "cell_type": "code",
   "execution_count": null,
   "metadata": {
    "collapsed": true
   },
   "outputs": [],
   "source": []
  }
 ],
 "metadata": {
  "kernelspec": {
   "display_name": "Python 3",
   "language": "python",
   "name": "python3"
  },
  "language_info": {
   "codemirror_mode": {
    "name": "ipython",
    "version": 3
   },
   "file_extension": ".py",
   "mimetype": "text/x-python",
   "name": "python",
   "nbconvert_exporter": "python",
   "pygments_lexer": "ipython3",
   "version": "3.5.2"
  }
 },
 "nbformat": 4,
 "nbformat_minor": 1
}
