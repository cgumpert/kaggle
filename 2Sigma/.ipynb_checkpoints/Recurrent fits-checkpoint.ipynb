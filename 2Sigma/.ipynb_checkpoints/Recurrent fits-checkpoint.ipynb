{
 "cells": [
  {
   "cell_type": "code",
   "execution_count": 1,
   "metadata": {
    "collapsed": false
   },
   "outputs": [],
   "source": [
    "import numpy as np\n",
    "import pandas as pd\n",
    "import matplotlib.pyplot as plt\n",
    "import logging\n",
    "logging.basicConfig(format='%(asctime)s %(levelname)-10s %(message)s',\n",
    "                    datefmt='%H:%M:%S',\n",
    "                    level=logging.DEBUG)\n",
    "%matplotlib inline"
   ]
  },
  {
   "cell_type": "code",
   "execution_count": 2,
   "metadata": {
    "collapsed": false
   },
   "outputs": [],
   "source": [
    "with pd.HDFStore('train.h5') as train:\n",
    "    df = train.get('train')"
   ]
  },
  {
   "cell_type": "code",
   "execution_count": 23,
   "metadata": {
    "collapsed": true
   },
   "outputs": [],
   "source": [
    "from sklearn.linear_model import Ridge\n",
    "from sklearn.metrics import r2_score\n",
    "\n",
    "def recurrent_linear_fit(df,col,quantile=0.99,min_train_fraction=0.9):\n",
    "    logging.info(\"recurrent linear fit to '%s'\",col)\n",
    "    X = df.loc[:,[col]]\n",
    "    train_index = X.dropna().index\n",
    "    start_train_size = len(train_index)\n",
    "    logging.info(\"start train size = %d\",start_train_size)\n",
    "    better = True\n",
    "    score = -1000\n",
    "    best_score = -1000\n",
    "    best_model = None\n",
    "    iteration = 0\n",
    "    while better:\n",
    "        iteration +=1\n",
    "        X = df.loc[train_index,[col]]\n",
    "        y = df.y[train_index]\n",
    "        internal_model = Ridge(alpha=0.001,fit_intercept=True,normalize=True)\n",
    "        internal_model.fit(X,y)\n",
    "        score = r2_score(y,internal_model.predict(X))\n",
    "        logging.debug(\"iteration %d: score = %.7f, train fraction = %.1f%%\",iteration,score,len(train_index) * 100./start_train_size)\n",
    "        better = score > best_score\n",
    "        if better:\n",
    "            best_score = score\n",
    "            best_model = internal_model\n",
    "            residuals = np.abs(y - internal_model.predict(X))\n",
    "            train_index = residuals[residuals < residuals.quantile(quantile)].index\n",
    "            if len(train_index) < min_train_fraction * start_train_size:\n",
    "                better = False\n",
    "        \n",
    "    return best_model,best_score"
   ]
  },
  {
   "cell_type": "code",
   "execution_count": 24,
   "metadata": {
    "collapsed": false
   },
   "outputs": [
    {
     "name": "stderr",
     "output_type": "stream",
     "text": [
      "11:23:10 INFO       performing recurrent linear fit to 108 columns\n",
      "11:23:10 INFO       recurrent linear fit to 'derived_0'\n",
      "11:23:10 INFO       start train size = 1637797\n",
      "11:23:10 DEBUG      iteration 1: score = 0.0000001, train fraction = 100.0%\n",
      "11:23:10 DEBUG      iteration 2: score = 0.0000002, train fraction = 99.0%\n",
      "11:23:10 DEBUG      iteration 3: score = 0.0000006, train fraction = 98.0%\n",
      "11:23:11 DEBUG      iteration 4: score = 0.0000000, train fraction = 97.0%\n"
     ]
    }
   ],
   "source": [
    "cols2fit = df.drop(['id','timestamp','y'],axis=1).columns\n",
    "logging.info(\"performing recurrent linear fit to %d columns\",len(cols2fit))\n",
    "models = {}\n",
    "for c in cols2fit[:1]:\n",
    "    m,s = recurrent_linear_fit(df,c)\n",
    "    models[c] = {'model': m, 'score': s}"
   ]
  },
  {
   "cell_type": "code",
   "execution_count": 6,
   "metadata": {
    "collapsed": false
   },
   "outputs": [
    {
     "data": {
      "text/plain": [
       "(array([ 0.,  0.,  0.,  0.,  0.,  0.,  0.,  0.,  0.,  0.,  0.,  0.,  0.,\n",
       "         0.,  0.,  0.,  0.,  0.,  0.,  0.,  0.,  0.,  0.,  0.,  0.,  1.,\n",
       "         0.,  0.,  0.,  0.,  0.,  0.,  0.,  0.,  0.,  0.,  0.,  0.,  0.,\n",
       "         0.,  0.,  0.,  0.,  0.,  0.,  0.,  0.,  0.,  0.,  0.]),\n",
       " array([ -4.99999999e-01,  -4.79999999e-01,  -4.59999999e-01,\n",
       "         -4.39999999e-01,  -4.19999999e-01,  -3.99999999e-01,\n",
       "         -3.79999999e-01,  -3.59999999e-01,  -3.39999999e-01,\n",
       "         -3.19999999e-01,  -2.99999999e-01,  -2.79999999e-01,\n",
       "         -2.59999999e-01,  -2.39999999e-01,  -2.19999999e-01,\n",
       "         -1.99999999e-01,  -1.79999999e-01,  -1.59999999e-01,\n",
       "         -1.39999999e-01,  -1.19999999e-01,  -9.99999993e-02,\n",
       "         -7.99999993e-02,  -5.99999993e-02,  -3.99999993e-02,\n",
       "         -1.99999993e-02,   6.96591673e-10,   2.00000007e-02,\n",
       "          4.00000007e-02,   6.00000007e-02,   8.00000007e-02,\n",
       "          1.00000001e-01,   1.20000001e-01,   1.40000001e-01,\n",
       "          1.60000001e-01,   1.80000001e-01,   2.00000001e-01,\n",
       "          2.20000001e-01,   2.40000001e-01,   2.60000001e-01,\n",
       "          2.80000001e-01,   3.00000001e-01,   3.20000001e-01,\n",
       "          3.40000001e-01,   3.60000001e-01,   3.80000001e-01,\n",
       "          4.00000001e-01,   4.20000001e-01,   4.40000001e-01,\n",
       "          4.60000001e-01,   4.80000001e-01,   5.00000001e-01]),\n",
       " <a list of 50 Patch objects>)"
      ]
     },
     "execution_count": 6,
     "metadata": {},
     "output_type": "execute_result"
    },
    {
     "data": {
      "image/png": "[encoded data removed]",
      "text/plain": [
       "<matplotlib.figure.Figure at 0x7fc8302f62e8>"
      ]
     },
     "metadata": {},
     "output_type": "display_data"
    }
   ],
   "source": [
    "scores = sorted([a['score'] for a in models.values()])\n",
    "plt.hist(scores,bins=50)"
   ]
  },
  {
   "cell_type": "code",
   "execution_count": 30,
   "metadata": {
    "collapsed": false
   },
   "outputs": [
    {
     "name": "stdout",
     "output_type": "stream",
     "text": [
      "[ -5.75147033e-08]\n",
      "2.12881293131e-05\n",
      "-8.99974454426\n",
      "[  2.12881293e-05]\n"
     ]
    }
   ],
   "source": [
    "m = models['derived_0']['model']\n",
    "print(m.coef_)\n",
    "print(m.intercept_)\n",
    "print(m.score([[0],[0]],[2,1]))\n",
    "print(m.predict([[0]]))"
   ]
  },
  {
   "cell_type": "code",
   "execution_count": null,
   "metadata": {
    "collapsed": true
   },
   "outputs": [],
   "source": []
  }
 ],
 "metadata": {
  "kernelspec": {
   "display_name": "Python 3",
   "language": "python",
   "name": "python3"
  },
  "language_info": {
   "codemirror_mode": {
    "name": "ipython",
    "version": 3
   },
   "file_extension": ".py",
   "mimetype": "text/x-python",
   "name": "python",
   "nbconvert_exporter": "python",
   "pygments_lexer": "ipython3",
   "version": "3.5.2"
  }
 },
 "nbformat": 4,
 "nbformat_minor": 1
}
